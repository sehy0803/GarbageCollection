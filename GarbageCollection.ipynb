{
 "cells": [
  {
   "attachments": {},
   "cell_type": "markdown",
   "metadata": {},
   "source": [
    "# Garbage Collection 사용 예시"
   ]
  },
  {
   "cell_type": "code",
   "execution_count": 1,
   "metadata": {},
   "outputs": [],
   "source": [
    "class MyClass:\n",
    "    def __init__(self, name):\n",
    "        self.name = name\n",
    "\n",
    "# 객체를 생성하고 변수에 할당합니다.\n",
    "obj1 = MyClass(\"Object 1\")\n",
    "obj2 = MyClass(\"Object 2\")"
   ]
  },
  {
   "cell_type": "code",
   "execution_count": 2,
   "metadata": {},
   "outputs": [],
   "source": [
    "# obj1 변수가 obj2를 참조합니다.\n",
    "obj1.other = obj2\n",
    "\n",
    "# obj2 변수를 None으로 설정하여 obj2의 참조를 해제합니다.\n",
    "obj2 = None"
   ]
  },
  {
   "cell_type": "code",
   "execution_count": 3,
   "metadata": {},
   "outputs": [
    {
     "data": {
      "text/plain": [
       "7"
      ]
     },
     "execution_count": 3,
     "metadata": {},
     "output_type": "execute_result"
    }
   ],
   "source": [
    "# 가비지 컬렉션을 트리거합니다.\n",
    "# obj2는 더 이상 사용되지 않으므로 회수됩니다.\n",
    "# obj1의 다른 속성에 의해 참조되는 객체는 회수되지 않습니다.\n",
    "import gc\n",
    "gc.collect()"
   ]
  },
  {
   "cell_type": "code",
   "execution_count": 4,
   "metadata": {},
   "outputs": [
    {
     "name": "stdout",
     "output_type": "stream",
     "text": [
      "Object 1\n",
      "None\n"
     ]
    }
   ],
   "source": [
    "# obj1은 아직 사용 중이므로 여전히 존재합니다.\n",
    "print(obj1.name)  # 출력: Object 1\n",
    "\n",
    "# obj2는 참조를 해제했으므로 더 이상 존재하지 않습니다.\n",
    "print(obj2)  # 출력: None"
   ]
  }
 ],
 "metadata": {
  "kernelspec": {
   "display_name": "Python 3",
   "language": "python",
   "name": "python3"
  },
  "language_info": {
   "codemirror_mode": {
    "name": "ipython",
    "version": 3
   },
   "file_extension": ".py",
   "mimetype": "text/x-python",
   "name": "python",
   "nbconvert_exporter": "python",
   "pygments_lexer": "ipython3",
   "version": "3.11.2"
  },
  "orig_nbformat": 4
 },
 "nbformat": 4,
 "nbformat_minor": 2
}
