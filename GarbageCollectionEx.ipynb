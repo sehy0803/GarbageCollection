{
 "cells": [
  {
   "attachments": {},
   "cell_type": "markdown",
   "metadata": {},
   "source": [
    "# Garbage Collection을 사용하는데도 불구하고 memory leak가 발생하는 경우"
   ]
  },
  {
   "cell_type": "code",
   "execution_count": null,
   "metadata": {},
   "outputs": [],
   "source": [
    "class MyClass:\n",
    "    def __init__(self):\n",
    "        self.data = [0] * 1000000"
   ]
  },
  {
   "cell_type": "code",
   "execution_count": null,
   "metadata": {},
   "outputs": [],
   "source": [
    "def create_objects():\n",
    "    # 객체를 생성하여 리스트에 추가합니다.\n",
    "    objects = []\n",
    "    for _ in range(100): # 인스턴스를 반복적으로 생성하고 리스트에 추가합니다. \n",
    "        obj = MyClass()\n",
    "        objects.append(obj)"
   ]
  },
  {
   "cell_type": "code",
   "execution_count": null,
   "metadata": {},
   "outputs": [],
   "source": [
    "# create_objects 함수를 반복 호출합니다.\n",
    "while True:\n",
    "    create_objects() # 리스트에 추가된 객체들은 참조되는 동안 가비지 컬렉션의 대상이 되지 않습니다. 따라서 객체들이 계속해서 메모리에 쌓이게 되어 메모리 누수가 발생합니다."
   ]
  }
 ],
 "metadata": {
  "language_info": {
   "name": "python"
  },
  "orig_nbformat": 4
 },
 "nbformat": 4,
 "nbformat_minor": 2
}
